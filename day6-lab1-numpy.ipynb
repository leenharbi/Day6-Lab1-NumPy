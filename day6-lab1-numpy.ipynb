{
 "cells": [
  {
   "cell_type": "markdown",
   "id": "8d40a91b",
   "metadata": {},
   "source": [
    "# Leen alharbi\n",
    "-----------------\n",
    "day6-lab1-numpy"
   ]
  },
  {
   "cell_type": "code",
   "execution_count": 66,
   "id": "ce3f551d",
   "metadata": {},
   "outputs": [],
   "source": [
    "import numpy as np"
   ]
  },
  {
   "cell_type": "code",
   "execution_count": 139,
   "id": "de335c0f",
   "metadata": {},
   "outputs": [],
   "source": [
    "x = np.array([1,1,1])\n",
    "y = np.array([0,0,0])"
   ]
  },
  {
   "cell_type": "code",
   "execution_count": 140,
   "id": "c5c8a517",
   "metadata": {},
   "outputs": [
    {
     "data": {
      "text/plain": [
       "array([1, 1, 1])"
      ]
     },
     "execution_count": 140,
     "metadata": {},
     "output_type": "execute_result"
    }
   ],
   "source": [
    "x+y"
   ]
  },
  {
   "cell_type": "code",
   "execution_count": 141,
   "id": "bed652d1",
   "metadata": {},
   "outputs": [
    {
     "data": {
      "text/plain": [
       "array([1, 1, 1])"
      ]
     },
     "execution_count": 141,
     "metadata": {},
     "output_type": "execute_result"
    }
   ],
   "source": [
    "np.add(x,y)"
   ]
  },
  {
   "cell_type": "code",
   "execution_count": 142,
   "id": "e3f4bd42",
   "metadata": {},
   "outputs": [
    {
     "data": {
      "text/plain": [
       "dtype('int64')"
      ]
     },
     "execution_count": 142,
     "metadata": {},
     "output_type": "execute_result"
    }
   ],
   "source": [
    "x.dtype"
   ]
  },
  {
   "cell_type": "code",
   "execution_count": 143,
   "id": "8f9c1034",
   "metadata": {},
   "outputs": [
    {
     "data": {
      "text/plain": [
       "(3,)"
      ]
     },
     "execution_count": 143,
     "metadata": {},
     "output_type": "execute_result"
    }
   ],
   "source": [
    "x.shape"
   ]
  },
  {
   "cell_type": "code",
   "execution_count": 144,
   "id": "c60af701",
   "metadata": {},
   "outputs": [
    {
     "data": {
      "text/plain": [
       "3"
      ]
     },
     "execution_count": 144,
     "metadata": {},
     "output_type": "execute_result"
    }
   ],
   "source": [
    "x.size"
   ]
  },
  {
   "cell_type": "code",
   "execution_count": 145,
   "id": "fee179ac",
   "metadata": {},
   "outputs": [
    {
     "data": {
      "text/plain": [
       "1"
      ]
     },
     "execution_count": 145,
     "metadata": {},
     "output_type": "execute_result"
    }
   ],
   "source": [
    "x.ndim"
   ]
  },
  {
   "cell_type": "code",
   "execution_count": 146,
   "id": "8de8eca1",
   "metadata": {},
   "outputs": [
    {
     "data": {
      "text/plain": [
       "array([[12, 14, 16],\n",
       "       [11, 13, 15]])"
      ]
     },
     "execution_count": 146,
     "metadata": {},
     "output_type": "execute_result"
    }
   ],
   "source": [
    "w = np.array([[12,14,16],[11,13,15]])\n",
    "w"
   ]
  },
  {
   "cell_type": "code",
   "execution_count": 147,
   "id": "c961aa68",
   "metadata": {},
   "outputs": [
    {
     "data": {
      "text/plain": [
       "array([1, 2, 3])"
      ]
     },
     "execution_count": 147,
     "metadata": {},
     "output_type": "execute_result"
    }
   ],
   "source": [
    "z =np.arange(1, 4)\n",
    "z"
   ]
  },
  {
   "cell_type": "code",
   "execution_count": 148,
   "id": "85cbe621",
   "metadata": {},
   "outputs": [
    {
     "data": {
      "text/plain": [
       "array([[ 1,  2,  3],\n",
       "       [12, 14, 16],\n",
       "       [11, 13, 15]])"
      ]
     },
     "execution_count": 148,
     "metadata": {},
     "output_type": "execute_result"
    }
   ],
   "source": [
    "Array=np.vstack((z, w))\n",
    "newArray = Array.copy()\n",
    "newArray"
   ]
  },
  {
   "cell_type": "code",
   "execution_count": 149,
   "id": "495f2650",
   "metadata": {},
   "outputs": [
    {
     "name": "stdout",
     "output_type": "stream",
     "text": [
      "1\n",
      "2\n",
      "3\n",
      "12\n",
      "14\n",
      "16\n",
      "11\n",
      "13\n",
      "15\n"
     ]
    }
   ],
   "source": [
    "for item in newArray.flat:\n",
    "    print(item)"
   ]
  },
  {
   "cell_type": "code",
   "execution_count": 150,
   "id": "aa09e4f7",
   "metadata": {},
   "outputs": [
    {
     "data": {
      "text/plain": [
       "array([[ 1, 12, 11],\n",
       "       [ 2, 14, 13],\n",
       "       [ 3, 16, 15]])"
      ]
     },
     "execution_count": 150,
     "metadata": {},
     "output_type": "execute_result"
    }
   ],
   "source": [
    "newArray.transpose()"
   ]
  },
  {
   "cell_type": "code",
   "execution_count": 151,
   "id": "33e231bd",
   "metadata": {},
   "outputs": [
    {
     "data": {
      "text/plain": [
       "array([[ 0,  1,  2],\n",
       "       [11, 13, 15],\n",
       "       [10, 12, 14]])"
      ]
     },
     "execution_count": 151,
     "metadata": {},
     "output_type": "execute_result"
    }
   ],
   "source": [
    "newArray -= 1\n",
    "newArray"
   ]
  },
  {
   "cell_type": "code",
   "execution_count": 152,
   "id": "95a09d1c",
   "metadata": {},
   "outputs": [
    {
     "data": {
      "text/plain": [
       "0"
      ]
     },
     "execution_count": 152,
     "metadata": {},
     "output_type": "execute_result"
    }
   ],
   "source": [
    "newArray.min()"
   ]
  },
  {
   "cell_type": "code",
   "execution_count": 153,
   "id": "11ce26de",
   "metadata": {},
   "outputs": [
    {
     "data": {
      "text/plain": [
       "15"
      ]
     },
     "execution_count": 153,
     "metadata": {},
     "output_type": "execute_result"
    }
   ],
   "source": [
    "newArray.max()"
   ]
  },
  {
   "cell_type": "code",
   "execution_count": 154,
   "id": "5ed0d316",
   "metadata": {},
   "outputs": [
    {
     "data": {
      "text/plain": [
       "array([0, 1, 2])"
      ]
     },
     "execution_count": 154,
     "metadata": {},
     "output_type": "execute_result"
    }
   ],
   "source": [
    "newArray[0]"
   ]
  },
  {
   "cell_type": "code",
   "execution_count": 155,
   "id": "063bed31",
   "metadata": {},
   "outputs": [
    {
     "data": {
      "text/plain": [
       "13"
      ]
     },
     "execution_count": 155,
     "metadata": {},
     "output_type": "execute_result"
    }
   ],
   "source": [
    "newArray[1, 1]"
   ]
  },
  {
   "cell_type": "code",
   "execution_count": 156,
   "id": "6216da98",
   "metadata": {},
   "outputs": [
    {
     "data": {
      "text/plain": [
       "array([1])"
      ]
     },
     "execution_count": 156,
     "metadata": {},
     "output_type": "execute_result"
    }
   ],
   "source": [
    "newArray[0,1:2] "
   ]
  },
  {
   "cell_type": "code",
   "execution_count": 165,
   "id": "e7e51d17",
   "metadata": {},
   "outputs": [
    {
     "data": {
      "text/plain": [
       "array([], dtype=int64)"
      ]
     },
     "execution_count": 165,
     "metadata": {},
     "output_type": "execute_result"
    }
   ],
   "source": [
    "newArray[2,2:3] "
   ]
  },
  {
   "cell_type": "code",
   "execution_count": 166,
   "id": "f71ff2ee",
   "metadata": {},
   "outputs": [
    {
     "data": {
      "text/plain": [
       "array([[ 0],\n",
       "       [ 1],\n",
       "       [ 2],\n",
       "       [11],\n",
       "       [13],\n",
       "       [15],\n",
       "       [10],\n",
       "       [12],\n",
       "       [14]])"
      ]
     },
     "execution_count": 166,
     "metadata": {},
     "output_type": "execute_result"
    }
   ],
   "source": [
    "newArray"
   ]
  },
  {
   "cell_type": "code",
   "execution_count": 167,
   "id": "79e1182f",
   "metadata": {},
   "outputs": [
    {
     "data": {
      "text/plain": [
       "array([[ 0],\n",
       "       [ 1],\n",
       "       [ 2],\n",
       "       [11],\n",
       "       [13],\n",
       "       [15],\n",
       "       [10],\n",
       "       [12],\n",
       "       [14]])"
      ]
     },
     "execution_count": 167,
     "metadata": {},
     "output_type": "execute_result"
    }
   ],
   "source": [
    "newArray = newArray.reshape(9,1)\n",
    "newArray"
   ]
  },
  {
   "cell_type": "code",
   "execution_count": 169,
   "id": "d11820c5",
   "metadata": {},
   "outputs": [
    {
     "data": {
      "text/plain": [
       "array([[ 0],\n",
       "       [ 1],\n",
       "       [ 2],\n",
       "       [11],\n",
       "       [13],\n",
       "       [15],\n",
       "       [10],\n",
       "       [12],\n",
       "       [14]])"
      ]
     },
     "execution_count": 169,
     "metadata": {},
     "output_type": "execute_result"
    }
   ],
   "source": [
    "newArray "
   ]
  },
  {
   "cell_type": "code",
   "execution_count": null,
   "id": "84c46a56",
   "metadata": {},
   "outputs": [],
   "source": [
    "newArray = newArray.reshape(3,2)\n",
    "newArray"
   ]
  }
 ],
 "metadata": {
  "kernelspec": {
   "display_name": "Python 3 (ipykernel)",
   "language": "python",
   "name": "python3"
  },
  "language_info": {
   "codemirror_mode": {
    "name": "ipython",
    "version": 3
   },
   "file_extension": ".py",
   "mimetype": "text/x-python",
   "name": "python",
   "nbconvert_exporter": "python",
   "pygments_lexer": "ipython3",
   "version": "3.9.7"
  }
 },
 "nbformat": 4,
 "nbformat_minor": 5
}
